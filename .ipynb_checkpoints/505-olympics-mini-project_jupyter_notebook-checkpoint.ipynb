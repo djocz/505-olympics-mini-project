{
 "cells": [
  {
   "cell_type": "code",
   "execution_count": 2,
   "metadata": {},
   "outputs": [],
   "source": [
    "import pandas as pd\n",
    "import numpy as np\n",
    "import matplotlib.pyplot as plt"
   ]
  },
  {
   "cell_type": "code",
   "execution_count": 463,
   "metadata": {},
   "outputs": [],
   "source": [
    "def load_data():\n",
    "    path = 'files/olympics.csv'\n",
    "    df = pd.read_csv(path,skiprows=1)\n",
    "    df.columns = ['Country','# Summer','Gold','Silver','Bronze','Total','#Winter','Gold','Silver','Bronze','Total','#Games','Gold','Silver','Bronze','Combined total']\n",
    "    new_col = df.Country.str.split('(').str.get(1).str.translate(None, \",!.; -@!%^&*)(\").str.split('[').str.get(0)\n",
    "    df.insert(loc=0, column='Code', value=new_col)\n",
    "    df.index = df.Country.str.split('(').str.get(0)\n",
    "    del df['Country']\n",
    "    del df['Total']\n",
    "    return df\n",
    "\n",
    "df = load_data()"
   ]
  },
  {
   "cell_type": "code",
   "execution_count": 465,
   "metadata": {},
   "outputs": [
    {
     "data": {
      "text/plain": [
       "Code              AFG\n",
       "#Summer            13\n",
       "Gold                0\n",
       "Silver              0\n",
       "Bronze              2\n",
       "#Winter             0\n",
       "Gold                0\n",
       "Silver              0\n",
       "Bronze              0\n",
       "#Games             13\n",
       "Gold                0\n",
       "Silver              0\n",
       "Bronze              2\n",
       "Combined total      2\n",
       "Name: Afghanistan , dtype: object"
      ]
     },
     "execution_count": 465,
     "metadata": {},
     "output_type": "execute_result"
    }
   ],
   "source": [
    "def first_country(df):\n",
    "    return df.iloc[0]\n",
    "    \n",
    "first_country(df)"
   ]
  },
  {
   "cell_type": "code",
   "execution_count": 431,
   "metadata": {},
   "outputs": [
    {
     "data": {
      "text/plain": [
       "'United States\\xc2\\xa0'"
      ]
     },
     "execution_count": 431,
     "metadata": {},
     "output_type": "execute_result"
    }
   ],
   "source": [
    "def gold_medal(df):\n",
    "    return df['Gold'].iloc[:-1,0].idxmax()\n",
    "\n",
    "gold_medal()"
   ]
  },
  {
   "cell_type": "code",
   "execution_count": 440,
   "metadata": {},
   "outputs": [
    {
     "data": {
      "text/plain": [
       "'United States\\xc2\\xa0'"
      ]
     },
     "execution_count": 440,
     "metadata": {},
     "output_type": "execute_result"
    }
   ],
   "source": [
    "def biggest_difference_in_gold_medal(df):\n",
    "    diff = df['Gold'].iloc[:-1,0] - df['Gold'].iloc[:-1,1]\n",
    "    return diff.idxmax()\n",
    "    \n",
    "biggest_difference_in_gold_medal()"
   ]
  },
  {
   "cell_type": "code",
   "execution_count": 459,
   "metadata": {},
   "outputs": [],
   "source": [
    "def get_points(df):\n",
    "    gold_points =  df['Gold'].iloc[:-1,2]*3\n",
    "    silver_points =  df['Silver'].iloc[:-1,2]*2\n",
    "    bronze_points =  df['Bronze'].iloc[:-1,2]*1\n",
    "    total_points = gold_points + silver_points +bronze_points\n",
    "    df['Points'] = total_points\n",
    "    return total_points\n",
    "    \n",
    "get_points()"
   ]
  }
 ],
 "metadata": {
  "kernelspec": {
   "display_name": "Python 2",
   "language": "python",
   "name": "python2"
  },
  "language_info": {
   "codemirror_mode": {
    "name": "ipython",
    "version": 2
   },
   "file_extension": ".py",
   "mimetype": "text/x-python",
   "name": "python",
   "nbconvert_exporter": "python",
   "pygments_lexer": "ipython2",
   "version": "2.7.14"
  }
 },
 "nbformat": 4,
 "nbformat_minor": 2
}

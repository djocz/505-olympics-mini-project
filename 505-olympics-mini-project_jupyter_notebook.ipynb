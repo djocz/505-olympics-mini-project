{
 "cells": [
  {
   "cell_type": "code",
   "execution_count": 4,
   "metadata": {},
   "outputs": [],
   "source": [
    "import pandas as pd\n",
    "import numpy as np\n",
    "import matplotlib.pyplot as plt"
   ]
  },
  {
   "cell_type": "code",
   "execution_count": 5,
   "metadata": {},
   "outputs": [],
   "source": [
    "def load_data():\n",
    "    path = 'files/olympics.csv'\n",
    "    df = pd.read_csv(path,skiprows=1)\n",
    "    df.columns = ['Country','# Summer','Gold','Silver','Bronze','Total','#Winter','Gold','Silver','Bronze','Total','#Games','Gold','Silver','Bronze','Combined total']\n",
    "    new_col = df.Country.str.split('(').str.get(1).str.translate(None, \",!.; -@!%^&*)(\").str.split('[').str.get(0)\n",
    "    df.insert(loc=0, column='Code', value=new_col)\n",
    "    df.index = df.Country.str.split('(').str.get(0)\n",
    "    del df['Country']\n",
    "    del df['Total']\n",
    "    return df\n",
    "\n",
    "df = load_data()\n"
   ]
  },
  {
   "cell_type": "code",
   "execution_count": 6,
   "metadata": {},
   "outputs": [
    {
     "data": {
      "text/plain": [
       "13L"
      ]
     },
     "execution_count": 6,
     "metadata": {},
     "output_type": "execute_result"
    }
   ],
   "source": [
    "def first_country(df):\n",
    "    return df.iloc[0]\n",
    "    \n",
    "first_country(df)['# Summer']"
   ]
  },
  {
   "cell_type": "code",
   "execution_count": 8,
   "metadata": {},
   "outputs": [
    {
     "data": {
      "text/plain": [
       "'United States\\xc2\\xa0'"
      ]
     },
     "execution_count": 8,
     "metadata": {},
     "output_type": "execute_result"
    }
   ],
   "source": [
    "def gold_medal(df):\n",
    "    return df['Gold'].iloc[:-1,0].idxmax()\n",
    "\n",
    "gold_medal(df)"
   ]
  },
  {
   "cell_type": "code",
   "execution_count": 9,
   "metadata": {},
   "outputs": [
    {
     "data": {
      "text/plain": [
       "'United States\\xc2\\xa0'"
      ]
     },
     "execution_count": 9,
     "metadata": {},
     "output_type": "execute_result"
    }
   ],
   "source": [
    "def biggest_difference_in_gold_medal(df):\n",
    "    diff = df['Gold'].iloc[:-1,0] - df['Gold'].iloc[:-1,1]\n",
    "    return diff.idxmax()\n",
    "    \n",
    "biggest_difference_in_gold_medal(df)"
   ]
  },
  {
   "cell_type": "code",
   "execution_count": 10,
   "metadata": {},
   "outputs": [
    {
     "data": {
      "text/plain": [
       "Country\n",
       "Afghanistan                             2\n",
       "Algeria                                27\n",
       "Argentina                             130\n",
       "Armenia                                16\n",
       "Australasia                            22\n",
       "Australia                             923\n",
       "Austria                               569\n",
       "Azerbaijan                             43\n",
       "Bahamas                                24\n",
       "Bahrain                                 1\n",
       "Barbados                                1\n",
       "Belarus                               154\n",
       "Belgium                               276\n",
       "Bermuda                                 1\n",
       "Bohemia                                 5\n",
       "Botswana                                2\n",
       "Brazil                                184\n",
       "British West Indies                     2\n",
       "Bulgaria                              411\n",
       "Burundi                                 3\n",
       "Cameroon                               12\n",
       "Canada                                846\n",
       "Chile                                  24\n",
       "China                                1120\n",
       "Colombia                               29\n",
       "Costa Rica                              7\n",
       "Ivory Coast                             2\n",
       "Croatia                                67\n",
       "Cuba                                  420\n",
       "Cyprus                                  2\n",
       "                                     ... \n",
       "Spain                                 268\n",
       "Sri Lanka                               4\n",
       "Sudan                                   2\n",
       "Suriname                                4\n",
       "Sweden                               1217\n",
       "Switzerland                           630\n",
       "Syria                                   6\n",
       "Chinese Taipei                         32\n",
       "Tajikistan                              4\n",
       "Tanzania                                4\n",
       "Thailand                               44\n",
       "Togo                                    1\n",
       "Tonga                                   2\n",
       "Trinidad and Tobago                    27\n",
       "Tunisia                                19\n",
       "Turkey                                191\n",
       "Uganda                                 14\n",
       "Ukraine                               220\n",
       "United Arab Emirates                    3\n",
       "United States                        5684\n",
       "Uruguay                                16\n",
       "Uzbekistan                             38\n",
       "Venezuela                              18\n",
       "Vietnam                                 4\n",
       "Virgin Islands                          2\n",
       "Yugoslavia                            171\n",
       "Independent Olympic Participants        4\n",
       "Zambia                                  3\n",
       "Zimbabwe                               18\n",
       "Mixed team                             38\n",
       "Length: 146, dtype: int64"
      ]
     },
     "execution_count": 10,
     "metadata": {},
     "output_type": "execute_result"
    }
   ],
   "source": [
    "def get_points(df):\n",
    "    gold_points =  df['Gold'].iloc[:-1,2]*3\n",
    "    silver_points =  df['Silver'].iloc[:-1,2]*2\n",
    "    bronze_points =  df['Bronze'].iloc[:-1,2]*1\n",
    "    total_points = gold_points + silver_points +bronze_points\n",
    "    df['Points'] = total_points\n",
    "    return total_points\n",
    "\n",
    "get_points(df)"
   ]
  }
 ],
 "metadata": {
  "kernelspec": {
   "display_name": "Python 2",
   "language": "python",
   "name": "python2"
  },
  "language_info": {
   "codemirror_mode": {
    "name": "ipython",
    "version": 2
   },
   "file_extension": ".py",
   "mimetype": "text/x-python",
   "name": "python",
   "nbconvert_exporter": "python",
   "pygments_lexer": "ipython2",
   "version": "2.7.14"
  }
 },
 "nbformat": 4,
 "nbformat_minor": 2
}
